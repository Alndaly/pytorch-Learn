{
 "cells": [
  {
   "cell_type": "markdown",
   "id": "a0d930bf-a78a-4057-9a11-69e0a8f344e8",
   "metadata": {
    "tags": []
   },
   "source": [
    "## 导入包"
   ]
  },
  {
   "cell_type": "code",
   "execution_count": 97,
   "id": "e5c33238-dc46-448d-baf0-9ffedcfe6d60",
   "metadata": {
    "tags": []
   },
   "outputs": [],
   "source": [
    "import torch\n",
    "import numpy as np\n",
    "import torch.nn as nn"
   ]
  },
  {
   "cell_type": "markdown",
   "id": "e69a8ef8-468b-4f52-ac10-4c504b868652",
   "metadata": {},
   "source": [
    "## 新建张量矩阵"
   ]
  },
  {
   "cell_type": "code",
   "execution_count": 98,
   "id": "196602b8-8acd-4aaf-8b94-0b7f7c1dbb04",
   "metadata": {
    "tags": []
   },
   "outputs": [
    {
     "data": {
      "text/plain": [
       "(11, 1)"
      ]
     },
     "execution_count": 98,
     "metadata": {},
     "output_type": "execute_result"
    }
   ],
   "source": [
    "x_train = np.array(x_values, dtype=np.float32)\n",
    "x_train = x_train.reshape(-1, 1)\n",
    "x_train.shape"
   ]
  },
  {
   "cell_type": "code",
   "execution_count": 99,
   "id": "836fa1b4-09e5-4a3e-b2c7-edae572818f6",
   "metadata": {
    "tags": []
   },
   "outputs": [
    {
     "data": {
      "text/plain": [
       "(11, 1)"
      ]
     },
     "execution_count": 99,
     "metadata": {},
     "output_type": "execute_result"
    }
   ],
   "source": [
    "y_values = [2*i + i for i in x_values]\n",
    "y_train = np.array(y_values, dtype=np.float32)\n",
    "y_train = y_train.reshape(-1, 1)\n",
    "y_train.shape"
   ]
  },
  {
   "cell_type": "markdown",
   "id": "2422d737-d8fd-42b7-8bea-1434698de436",
   "metadata": {},
   "source": [
    "## 建立神经网络"
   ]
  },
  {
   "cell_type": "code",
   "execution_count": 103,
   "id": "9ee9b10e-22cc-488c-ab4b-881b80d0595c",
   "metadata": {
    "tags": []
   },
   "outputs": [],
   "source": [
    "class Model(nn.Module):\n",
    "    def __init__(self, input_dim, output_dim):\n",
    "        super(Model, self).__init__()\n",
    "        self.linear = nn.Linear(input_dim, output_dim)\n",
    "        \n",
    "    def forward(self, x):\n",
    "        x = self.linear(x)\n",
    "        return x"
   ]
  },
  {
   "cell_type": "code",
   "execution_count": 104,
   "id": "d2dfb759-7276-46ea-82fd-a58c1b98e1a3",
   "metadata": {
    "tags": []
   },
   "outputs": [
    {
     "data": {
      "text/plain": [
       "Model(\n",
       "  (linear): Linear(in_features=1, out_features=1, bias=True)\n",
       ")"
      ]
     },
     "execution_count": 104,
     "metadata": {},
     "output_type": "execute_result"
    }
   ],
   "source": [
    "input_dim = 1\n",
    "output_dim = 1\n",
    "\n",
    "model = Model(input_dim, output_dim)\n",
    "model"
   ]
  },
  {
   "cell_type": "code",
   "execution_count": 105,
   "id": "82c2ceea-02f8-45fe-9288-d9bbcfe61070",
   "metadata": {
    "tags": []
   },
   "outputs": [],
   "source": [
    "learning_rate = 0.01\n",
    "optimizer = torch.optim.SGD(model.parameters(), lr=learning_rate)\n",
    "criterion = nn.MSELoss()"
   ]
  },
  {
   "cell_type": "markdown",
   "id": "8082b009-37ef-4fe8-8b8d-ce2edf1e2f88",
   "metadata": {},
   "source": [
    "## 开始训练"
   ]
  },
  {
   "cell_type": "code",
   "execution_count": 107,
   "id": "88489c0d-a58e-436d-96df-58373e4a9c7d",
   "metadata": {
    "tags": []
   },
   "outputs": [
    {
     "name": "stdout",
     "output_type": "stream",
     "text": [
      "epoch 0, loss 3.276277686647955e-12\n",
      "epoch 100, loss 3.276277686647955e-12\n",
      "epoch 200, loss 3.276277686647955e-12\n",
      "epoch 300, loss 3.276277686647955e-12\n",
      "epoch 400, loss 3.276277686647955e-12\n",
      "epoch 500, loss 3.276277686647955e-12\n",
      "epoch 600, loss 3.276277686647955e-12\n",
      "epoch 700, loss 3.276277686647955e-12\n",
      "epoch 800, loss 3.276277686647955e-12\n",
      "epoch 900, loss 3.276277686647955e-12\n"
     ]
    }
   ],
   "source": [
    "for epoch in range(1000):\n",
    "    # 转换成tensor\n",
    "    inputs = torch.from_numpy(x_train)\n",
    "    labels = torch.from_numpy(y_train)\n",
    "    # 清空梯度\n",
    "    optimizer.zero_grad()\n",
    "    # 前向传播\n",
    "    outputs = model(inputs)\n",
    "    # 计算损失函数\n",
    "    loss = criterion(outputs, labels)\n",
    "    # 反向传播\n",
    "    loss.backward()\n",
    "    # 参数更新\n",
    "    optimizer.step()\n",
    "    if(epoch%100==0):\n",
    "        print(\"epoch {}, loss {}\".format(epoch, loss.item()))"
   ]
  },
  {
   "cell_type": "markdown",
   "id": "20a1e04d-d1f8-4672-a586-dc0b63f72b74",
   "metadata": {},
   "source": [
    "## 结果测试"
   ]
  },
  {
   "cell_type": "code",
   "execution_count": 113,
   "id": "ca2a6644-1a1c-49c4-94d1-cf9ddff33f07",
   "metadata": {
    "tags": []
   },
   "outputs": [
    {
     "data": {
      "text/plain": [
       "array([[2.6226667e-06],\n",
       "       [3.0000021e+00],\n",
       "       [6.0000019e+00],\n",
       "       [9.0000010e+00],\n",
       "       [1.2000001e+01],\n",
       "       [1.5000001e+01],\n",
       "       [1.7999998e+01],\n",
       "       [2.0999998e+01],\n",
       "       [2.3999998e+01],\n",
       "       [2.6999998e+01],\n",
       "       [2.9999998e+01]], dtype=float32)"
      ]
     },
     "execution_count": 113,
     "metadata": {},
     "output_type": "execute_result"
    }
   ],
   "source": [
    "predicted = model(torch.from_numpy(x_train)).data.numpy()\n",
    "predicted"
   ]
  },
  {
   "cell_type": "code",
   "execution_count": 116,
   "id": "c6ebb93a-9b97-43ea-b73e-e7292c8ee8df",
   "metadata": {
    "tags": []
   },
   "outputs": [
    {
     "data": {
      "text/plain": [
       "0.0"
      ]
     },
     "execution_count": 116,
     "metadata": {},
     "output_type": "execute_result"
    }
   ],
   "source": [
    "predicted.sum()-y_train.sum()"
   ]
  },
  {
   "cell_type": "markdown",
   "id": "4ae78376-ef7d-4120-8dc5-b070f6d817e3",
   "metadata": {},
   "source": [
    "## 模型参数保存"
   ]
  },
  {
   "cell_type": "code",
   "execution_count": 117,
   "id": "63b0c810-7b13-4752-a27b-78e761136b8f",
   "metadata": {
    "tags": []
   },
   "outputs": [],
   "source": [
    "torch.save(model.state_dict(), 'model.pkl')"
   ]
  },
  {
   "cell_type": "markdown",
   "id": "a40dd4f6-36a7-4e59-b37d-753c9370ba16",
   "metadata": {},
   "source": [
    "## 加载模型参数"
   ]
  },
  {
   "cell_type": "code",
   "execution_count": 118,
   "id": "9829ec6e-7987-4c25-a432-e43c0ed4ce12",
   "metadata": {
    "tags": []
   },
   "outputs": [
    {
     "data": {
      "text/plain": [
       "<All keys matched successfully>"
      ]
     },
     "execution_count": 118,
     "metadata": {},
     "output_type": "execute_result"
    }
   ],
   "source": [
    "model.load_state_dict(torch.load('model.pkl'))"
   ]
  },
  {
   "cell_type": "markdown",
   "id": "824bca8e-8871-4d1d-aa79-588411c4997d",
   "metadata": {
    "tags": []
   },
   "source": [
    "## 使用GPU训练"
   ]
  },
  {
   "cell_type": "code",
   "execution_count": 123,
   "id": "732c2bd3-a098-4d5f-b28a-6b695cabfa22",
   "metadata": {
    "tags": []
   },
   "outputs": [],
   "source": [
    "device = torch.device(\"cpu\")"
   ]
  },
  {
   "cell_type": "code",
   "execution_count": 125,
   "id": "a8486c82-77d2-4786-940e-dab60c412245",
   "metadata": {
    "tags": []
   },
   "outputs": [],
   "source": [
    "if(torch.cuda.is_available()):   \n",
    "    device = torch.device(\"cuda\")\n",
    "elif(torch.backends.mps.is_available()):\n",
    "    device = torch.device(\"mps\")"
   ]
  },
  {
   "cell_type": "markdown",
   "id": "3483533f-8349-4cd4-a859-d2f1cf782c0e",
   "metadata": {},
   "source": [
    "## 将模型送入mps"
   ]
  },
  {
   "cell_type": "code",
   "execution_count": 132,
   "id": "5d6ed339-91b6-4d1d-b5a9-bb6da480cc5b",
   "metadata": {
    "tags": []
   },
   "outputs": [],
   "source": [
    "model_mps = model.to(device)"
   ]
  },
  {
   "cell_type": "code",
   "execution_count": 133,
   "id": "67df4bce-7446-4e29-9e4d-4891fadf581b",
   "metadata": {
    "tags": []
   },
   "outputs": [
    {
     "name": "stdout",
     "output_type": "stream",
     "text": [
      "epoch 0, loss 3.276277686647955e-12\n",
      "epoch 100, loss 3.276277686647955e-12\n",
      "epoch 200, loss 3.276277686647955e-12\n",
      "epoch 300, loss 3.276277686647955e-12\n",
      "epoch 400, loss 3.276277686647955e-12\n",
      "epoch 500, loss 3.276277686647955e-12\n",
      "epoch 600, loss 3.276277686647955e-12\n",
      "epoch 700, loss 3.276277686647955e-12\n",
      "epoch 800, loss 3.276277686647955e-12\n",
      "epoch 900, loss 3.276277686647955e-12\n"
     ]
    }
   ],
   "source": [
    "for epoch in range(1000):\n",
    "    # 转换成tensor\n",
    "    inputs = torch.from_numpy(x_train).to(device)\n",
    "    labels = torch.from_numpy(y_train).to(device)\n",
    "    # 清空梯度\n",
    "    optimizer.zero_grad()\n",
    "    # 前向传播\n",
    "    outputs = model_mps(inputs)\n",
    "    # 计算损失函数\n",
    "    loss = criterion(outputs, labels)\n",
    "    # 反向传播\n",
    "    loss.backward()\n",
    "    # 参数更新\n",
    "    optimizer.step()\n",
    "    if(epoch%100==0):\n",
    "        print(\"epoch {}, loss {}\".format(epoch, loss.item()))"
   ]
  }
 ],
 "metadata": {
  "kernelspec": {
   "display_name": "Python 3 (ipykernel)",
   "language": "python",
   "name": "python3"
  },
  "language_info": {
   "codemirror_mode": {
    "name": "ipython",
    "version": 3
   },
   "file_extension": ".py",
   "mimetype": "text/x-python",
   "name": "python",
   "nbconvert_exporter": "python",
   "pygments_lexer": "ipython3",
   "version": "3.9.16"
  }
 },
 "nbformat": 4,
 "nbformat_minor": 5
}
